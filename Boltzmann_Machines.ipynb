{
  "nbformat": 4,
  "nbformat_minor": 0,
  "metadata": {
    "colab": {
      "provenance": [],
      "authorship_tag": "ABX9TyOZW6gGtZupLCHTEmWR8tu/"
    },
    "kernelspec": {
      "name": "python3",
      "display_name": "Python 3"
    },
    "language_info": {
      "name": "python"
    }
  },
  "cells": [
    {
      "cell_type": "markdown",
      "source": [],
      "metadata": {
        "id": "oZ42MNd_f3H6"
      }
    },
    {
      "cell_type": "code",
      "execution_count": 1,
      "metadata": {
        "colab": {
          "base_uri": "https://localhost:8080/"
        },
        "id": "8PSUYo_gYq8Z",
        "outputId": "706429cd-b6e7-4bef-c6ed-dfdaf4d9b210"
      },
      "outputs": [
        {
          "output_type": "stream",
          "name": "stdout",
          "text": [
            "Drive already mounted at /content/gdrive; to attempt to forcibly remount, call drive.mount(\"/content/gdrive\", force_remount=True).\n"
          ]
        }
      ],
      "source": [
        "from google.colab import drive\n",
        "drive.mount('/content/gdrive')"
      ]
    },
    {
      "cell_type": "markdown",
      "source": [
        "Importing the libraries"
      ],
      "metadata": {
        "id": "PBbw_dJhf40h"
      }
    },
    {
      "cell_type": "code",
      "source": [
        "import torch\n",
        "from torch import nn,optim\n",
        "import numpy as np\n",
        "import pandas as pd"
      ],
      "metadata": {
        "id": "NW3By0mbY10T"
      },
      "execution_count": 2,
      "outputs": []
    },
    {
      "cell_type": "markdown",
      "source": [
        "Importing the dataset"
      ],
      "metadata": {
        "id": "1-52wYYIf5Tj"
      }
    },
    {
      "cell_type": "code",
      "source": [
        "movies = pd.read_csv(\"/content/gdrive/MyDrive/P16-AutoEncoders (1)/__MACOSX/AutoEncoders/ml-1m/movies.dat\", header = None, sep = '::' , engine = 'python' , encoding = 'latin-1')\n",
        "ratings = pd.read_csv(\"/content/gdrive/MyDrive/P16-AutoEncoders (1)/__MACOSX/AutoEncoders/ml-1m/ratings.dat\", header = None, sep = '::' , engine = 'python' , encoding = 'latin-1')\n",
        "users = pd.read_csv(\"/content/gdrive/MyDrive/P16-AutoEncoders (1)/__MACOSX/AutoEncoders/ml-1m/users.dat\", header = None, sep = '::' , engine = 'python' , encoding = 'latin-1')"
      ],
      "metadata": {
        "id": "qbcpKqd2ZJwh"
      },
      "execution_count": 3,
      "outputs": []
    },
    {
      "cell_type": "markdown",
      "source": [
        "Preparing the training set and the test set"
      ],
      "metadata": {
        "id": "vPPAb5fHf6G5"
      }
    },
    {
      "cell_type": "code",
      "source": [
        "training_set = pd.read_csv(\"/content/gdrive/MyDrive/P16-AutoEncoders (1)/__MACOSX/AutoEncoders/ml-100k/u1.base\", delimiter= '\\t')\n",
        "test_set = pd.read_csv(\"/content/gdrive/MyDrive/P16-AutoEncoders (1)/__MACOSX/AutoEncoders/ml-100k/u1.test\", delimiter= '\\t')"
      ],
      "metadata": {
        "id": "9r0Fd1OtZdJ6"
      },
      "execution_count": 4,
      "outputs": []
    },
    {
      "cell_type": "code",
      "source": [
        "training_set = np.array(training_set , dtype = 'int')\n",
        "test_set = np.array(test_set , dtype = 'int')"
      ],
      "metadata": {
        "id": "YAZ6vHqPZnAI"
      },
      "execution_count": 5,
      "outputs": []
    },
    {
      "cell_type": "markdown",
      "source": [
        "Getting the number of users and movies"
      ],
      "metadata": {
        "id": "KK-rw0ROf7lg"
      }
    },
    {
      "cell_type": "code",
      "source": [
        "nb_users = int(max(max(training_set[:, 0]), max(test_set[:, 0])))\n",
        "nb_movies = int(max(max(training_set[:, 1]), max(test_set[:, 1])))"
      ],
      "metadata": {
        "id": "pP0EUddtaco0"
      },
      "execution_count": 6,
      "outputs": []
    },
    {
      "cell_type": "markdown",
      "source": [],
      "metadata": {
        "id": "gpk9odcrf8Gs"
      }
    },
    {
      "cell_type": "code",
      "source": [
        "def convert(data):\n",
        "  new_data = []\n",
        "  for id_user in range(1, nb_users + 1):\n",
        "    id_movies = data[:, 1][data[:, 0] == id_user]\n",
        "    id_ratings = data[:, 2][data[:, 0] == id_user]\n",
        "    ratings = np.zeros(nb_movies)\n",
        "    ratings[id_movies - 1] = id_ratings\n",
        "    new_data.append(list(ratings))\n",
        "  return new_data"
      ],
      "metadata": {
        "id": "JMntxl3sbHL9"
      },
      "execution_count": 7,
      "outputs": []
    },
    {
      "cell_type": "markdown",
      "source": [
        "Converting the data into an array with users in lines and movies in columns\n"
      ],
      "metadata": {
        "id": "3OenKshLf8sS"
      }
    },
    {
      "cell_type": "code",
      "source": [
        "train = convert(training_set)\n",
        "test = convert(test_set)"
      ],
      "metadata": {
        "id": "9-v8qwZDbeDj"
      },
      "execution_count": 8,
      "outputs": []
    },
    {
      "cell_type": "markdown",
      "source": [
        "Converting the data into Torch tensors"
      ],
      "metadata": {
        "id": "QBOgqpnKf-C8"
      }
    },
    {
      "cell_type": "code",
      "source": [
        "train = torch.FloatTensor(train)\n",
        "test = torch.FloatTensor(test)"
      ],
      "metadata": {
        "id": "mW1QGlRDbyxD"
      },
      "execution_count": 9,
      "outputs": []
    },
    {
      "cell_type": "markdown",
      "source": [
        "Converting the ratings into binary ratings 1 (Liked) or 0 (Not Liked)"
      ],
      "metadata": {
        "id": "oYoqqs2_f_Aa"
      }
    },
    {
      "cell_type": "code",
      "source": [
        "train[train == 0] = -1\n",
        "train[train == 1] = 0\n",
        "train[train == 2] = 0\n",
        "train[train >= 3] = 1\n",
        "test[test == 0] = -1\n",
        "test[test == 1] = 0\n",
        "test[test == 2] = 0\n",
        "test[test >= 3] = 1"
      ],
      "metadata": {
        "id": "DEAI8o_9bhbn"
      },
      "execution_count": 10,
      "outputs": []
    },
    {
      "cell_type": "markdown",
      "source": [
        "Creating the architecture of the Neural Network"
      ],
      "metadata": {
        "id": "_nM8U93Xf_md"
      }
    },
    {
      "cell_type": "code",
      "source": [
        "class RBM(nn.Module):\n",
        "  def __init__(self,nh, nv):\n",
        "    self.W = torch.randn(nh , nv)\n",
        "    self.a = torch.randn(1, nh)\n",
        "    self.b = torch.randn(1, nv)\n",
        "\n",
        "  def sample_h(self,x):\n",
        "    wx = torch.mm(x , self.W.t())\n",
        "    activation = wx + self.a.expand_as(wx)\n",
        "    w_h_given_v = torch.sigmoid(activation)\n",
        "    return w_h_given_v , torch.bernoulli(w_h_given_v)\n",
        "\n",
        "  def sample_v(self,y):\n",
        "    wy = torch.mm(y , self.W)\n",
        "    activation = wy + self.b.expand_as(wy)\n",
        "    w_v_given_h = torch.sigmoid(activation)\n",
        "    return w_v_given_h , torch.bernoulli(w_v_given_h)\n",
        "\n",
        "  def train(self, v0,vk, ph0,phk):\n",
        "    self.W += (torch.mm(v0.t() , ph0) - torch.mm(vk.t() , phk)).t()\n",
        "    self.a += torch.sum((ph0 - phk) , 0)\n",
        "    self.b += torch.sum((v0-vk),0)"
      ],
      "metadata": {
        "id": "f19tho1MbxZj"
      },
      "execution_count": 11,
      "outputs": []
    },
    {
      "cell_type": "markdown",
      "source": [
        "Training the RBM"
      ],
      "metadata": {
        "id": "sk-NhHN3gAe0"
      }
    },
    {
      "cell_type": "code",
      "source": [
        "nv = len(train[0])\n",
        "nh = 100\n",
        "rbm = RBM(nh, nv)\n",
        "batch_size = 100\n",
        "n_epochs = 20\n",
        "\n",
        "for epoch in range(1, n_epochs + 1):\n",
        "  train_loss = 0\n",
        "  s = 0.\n",
        "  for id_user in range(0, nb_users - batch_size , batch_size):\n",
        "    v0 = train[id_user : id_user + batch_size]\n",
        "    vk = train[id_user : id_user + batch_size]\n",
        "    ph0,_ = rbm.sample_h(v0)\n",
        "    for k in range(10):\n",
        "      _,hk = rbm.sample_h(vk)\n",
        "      _,vk = rbm.sample_v(hk)\n",
        "      vk[v0 < 0] = v0[v0< 0]\n",
        "    phk,_ = rbm.sample_h(vk)\n",
        "    rbm.train(v0,vk,ph0,phk)\n",
        "    train_loss += torch.mean(torch.abs(v0[v0 >= 0] - vk[v0 >= 0]))\n",
        "    s += 1.\n",
        "  print(f\"Eppch :{epoch} , Train Loss :{train_loss/s}\")"
      ],
      "metadata": {
        "colab": {
          "base_uri": "https://localhost:8080/"
        },
        "id": "Uf5FE1q-dEzp",
        "outputId": "edffa2eb-af1d-49d8-e860-9f0e4100255d"
      },
      "execution_count": 12,
      "outputs": [
        {
          "output_type": "stream",
          "name": "stdout",
          "text": [
            "Eppch :1 , Train Loss :0.3482656478881836\n",
            "Eppch :2 , Train Loss :0.2504951059818268\n",
            "Eppch :3 , Train Loss :0.25145721435546875\n",
            "Eppch :4 , Train Loss :0.24794724583625793\n",
            "Eppch :5 , Train Loss :0.24993263185024261\n",
            "Eppch :6 , Train Loss :0.2485201358795166\n",
            "Eppch :7 , Train Loss :0.2475098818540573\n",
            "Eppch :8 , Train Loss :0.24495860934257507\n",
            "Eppch :9 , Train Loss :0.24499914050102234\n",
            "Eppch :10 , Train Loss :0.24940729141235352\n",
            "Eppch :11 , Train Loss :0.2450280785560608\n",
            "Eppch :12 , Train Loss :0.24566347897052765\n",
            "Eppch :13 , Train Loss :0.24629990756511688\n",
            "Eppch :14 , Train Loss :0.2469441294670105\n",
            "Eppch :15 , Train Loss :0.2474084496498108\n",
            "Eppch :16 , Train Loss :0.24457107484340668\n",
            "Eppch :17 , Train Loss :0.2425302118062973\n",
            "Eppch :18 , Train Loss :0.2475060671567917\n",
            "Eppch :19 , Train Loss :0.2474788874387741\n",
            "Eppch :20 , Train Loss :0.24550382792949677\n"
          ]
        }
      ]
    },
    {
      "cell_type": "markdown",
      "source": [
        "Testing the RBM"
      ],
      "metadata": {
        "id": "mJqFq7_xgBLT"
      }
    },
    {
      "cell_type": "code",
      "source": [
        "test_loss = 0\n",
        "s = 0.\n",
        "for id_user in range(nb_users):\n",
        "  v = train[id_user : id_user + 1]\n",
        "  vt = test[id_user : id_user + 1]\n",
        "  ph0,_ = rbm.sample_h(vt)\n",
        "  if len(vt[vt >= 0]) > 0:\n",
        "    _,h = rbm.sample_h(v)\n",
        "    _,v = rbm.sample_v(h)\n",
        "    test_loss += torch.mean(torch.abs(vt[vt >= 0] - v[vt >= 0]))\n",
        "    s += 1.\n",
        "print(f\"Test Loss :{test_loss/s}\")"
      ],
      "metadata": {
        "colab": {
          "base_uri": "https://localhost:8080/"
        },
        "id": "X2sz4GKZeQCu",
        "outputId": "10440de4-6335-48f8-b499-66060734cec3"
      },
      "execution_count": 13,
      "outputs": [
        {
          "output_type": "stream",
          "name": "stdout",
          "text": [
            "Test Loss :0.26436281204223633\n"
          ]
        }
      ]
    }
  ]
}